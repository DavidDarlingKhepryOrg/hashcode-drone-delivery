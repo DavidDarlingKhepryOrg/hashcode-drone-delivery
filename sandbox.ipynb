{
 "cells": [
  {
   "cell_type": "code",
   "execution_count": 45,
   "metadata": {},
   "outputs": [
    {
     "name": "stdout",
     "output_type": "stream",
     "text": [
      "100 100 3 50 500\n",
      "3\n",
      "100 5 450\n",
      "2\n",
      "0 0\n",
      "5 1 0\n",
      "5 5\n",
      "0 10 2\n",
      "3\n",
      "1 1\n",
      "2\n",
      "2 0\n",
      "3 3\n",
      "1\n",
      "0\n",
      "5 6\n",
      "1\n",
      "2\n",
      "{\n",
      "  \"game\": {\n",
      "    \"nbr_of_rows\": 100,\n",
      "    \"nbr_of_cols\": 100,\n",
      "    \"nbr_of_turns\": 50\n",
      "  },\n",
      "  \"drones\": {\n",
      "    \"nbr_of\": 3,\n",
      "    \"max_payload_weight_of_drones\": [\n",
      "      500,\n",
      "      500,\n",
      "      500\n",
      "    ]\n",
      "  },\n",
      "  \"products\": {\n",
      "    \"nbr_of\": 3,\n",
      "    \"weights\": [\n",
      "      100,\n",
      "      5,\n",
      "      450\n",
      "    ]\n",
      "  },\n",
      "  \"warehouses\": {\n",
      "    \"nbr_of\": 2\n",
      "  }\n",
      "}\n"
     ]
    }
   ],
   "source": [
    "import json\n",
    "\n",
    "src_file_path = \"example_day.txt\"\n",
    "src_dict = dict()\n",
    "src_dict[\"game\"] = dict()\n",
    "src_dict[\"drones\"] = dict()\n",
    "src_dict[\"products\"] = dict()\n",
    "src_dict[\"warehouses\"] = dict()\n",
    "\n",
    "with open(src_file_path, \"r\", encoding=\"utf8\") as src_file:\n",
    "    lines = src_file.readlines()\n",
    "    line_nbr = 0\n",
    "    for line in lines:\n",
    "        print(line, end=\"\")\n",
    "        values = line.split(\" \")\n",
    "        if line_nbr == 0:\n",
    "            src_dict[\"game\"][\"nbr_of_rows\"] = int(values[0])\n",
    "            src_dict[\"game\"][\"nbr_of_cols\"] = int(values[1])\n",
    "            nbr_of_drones = int(values[2])\n",
    "            src_dict[\"drones\"][\"nbr_of\"] = nbr_of_drones\n",
    "            src_dict[\"game\"][\"nbr_of_turns\"] = int(values[3])\n",
    "            max_payload_weight_of_drone = int(values[4])\n",
    "            src_dict[\"drones\"][\"max_payload_weight_of_drones\"] = [max_payload_weight_of_drone for _ in range(0, nbr_of_drones)]\n",
    "        elif line_nbr == 1:\n",
    "            src_dict[\"products\"] = {\"nbr_of\": int(values[0])}\n",
    "        elif line_nbr == 2:\n",
    "            prod_weights = list()\n",
    "            for i in range(0, len(values)):\n",
    "                prod_weights.append(int(values[i]))\n",
    "            src_dict[\"products\"][\"weights\"] = prod_weights\n",
    "        elif line_nbr == 3:\n",
    "            src_dict[\"warehouses\"][\"nbr_of\"] = int(values[0])\n",
    "        line_nbr += 1\n",
    "\n",
    "print(json.dumps(src_dict, indent=2))\n",
    "            \n",
    "            \n",
    "            "
   ]
  },
  {
   "cell_type": "code",
   "execution_count": null,
   "metadata": {},
   "outputs": [],
   "source": []
  }
 ],
 "metadata": {
  "kernelspec": {
   "display_name": "Python 3",
   "language": "python",
   "name": "python3"
  },
  "language_info": {
   "codemirror_mode": {
    "name": "ipython",
    "version": 3
   },
   "file_extension": ".py",
   "mimetype": "text/x-python",
   "name": "python",
   "nbconvert_exporter": "python",
   "pygments_lexer": "ipython3",
   "version": "3.8.6"
  }
 },
 "nbformat": 4,
 "nbformat_minor": 4
}
